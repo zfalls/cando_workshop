{
 "cells": [
  {
   "cell_type": "markdown",
   "metadata": {},
   "source": [
    "# CANDO Tutorial\n",
    "---\n",
    "This notebook will walk you through how to generate a CANDO matrix, set up a CANDO object, probe the data, benchmark the platform, and make therapeutic predictions. \n",
    "\n",
    "<div>\n",
    "<img src=\"figs/cando_logo.png\" width=\"300\"/>\n",
    "</div>\n",
    "\n",
    "## Table of Contents\n",
    "* [Introduction](#intro)\n",
    "* [Get Started](#get-started)\n",
    "* [Setting up CANDO objects](#cando-object)\n",
    "* [Check data](#check-data)\n",
    "* [Generate interaction matrix](#interaction-matrix)\n",
    "* [CANBENCHMARK](#canbenchmark)\n",
    "* [CANPREDICT](#canpredict)\n",
    "* [Machine Learning with CANDO](#ml)\n",
    "* [Custom protein subsets and signatures](#custom)\n",
    "* [Generate signatures for novel compounds](#novel)\n",
    "* [Generate a new compound library](#new-cmpd-lib)\n",
    "* [Virtual screening in CANDO](#virtual-screen)\n",
    "\n"
   ]
  },
  {
   "cell_type": "markdown",
   "metadata": {},
   "source": [
    "<a class=\"anchor\" id=\"intro\"></a>\n",
    "## Introduction\n",
    "\n",
    "CANDO (Computational Analysis of Novel Drug Opportunities) is a shotgun, multiscale drug discovery, design, and repurposing platform intended to integrate multiomics data and a non-traditional multitargeting approach to effectively identify novel therapeutic uses for exisiting compounds and new chemical entities.\n",
    "\n",
    "![pipeline](figs/cando_pipeline.png)\n",
    "\n",
    "The CANDO platform generally follows the following pipeline (as shown in the figure above):\n",
    "1. Extract, create, or \"select\" a library of proteins (or any macromolecular targets, e.g., RNA, etc.)\n",
    "2. Extract, create, or \"select\" a library of chemical compounds (approved drugs, investigational compounds, new designs, etc.)\n",
    "3. Extract, create, or \"select\" a mapping of drugs to effects, e.g., therapeutic effects, adverse drug reactions, etc.\n",
    "4. Choose an interaction scoring protocol and apply it to all compound-protein pairs between our two libraries.\n",
    "5. Collect and curate all interaction scores into compound-protein matrix where each row represents a compounds-protein signature. \n",
    "6. Compare all signatures to one another to determine compound similarity based on proteomic level behavior.\n",
    "7. Predict new compound effects using known drug effects and proteomic based similarity.\n",
    "\n",
    "*The above pipeline is A LOT so we will go through each step and run the corresponding code to better understand how CANDO works and how you can apply it to your drug discovery project.*\n"
   ]
  },
  {
   "cell_type": "markdown",
   "metadata": {},
   "source": [
    "<a class=\"anchor\" id=\"get-started\"></a>\n",
    "## Get Started\n",
    "\n",
    "We begin by importing the cando package. Once cando has been imported we can pull the example mappings and matrix data for this tutorial, `cnd.get_tutorial()`. Lastly, for our set up, we define important variables that will be used throughout this tutorial. These variables will be explained as each becomes important for different functions."
   ]
  },
  {
   "cell_type": "code",
   "execution_count": null,
   "metadata": {
    "scrolled": true
   },
   "outputs": [],
   "source": [
    "import sys, os\n",
    "# import the cando package\n",
    "import cando as cnd\n",
    "\n",
    "# Clear previously downladed data\n",
    "# Do this if a new version of CANDO \n",
    "# has been pulled from GitHub\n",
    "cnd.clear_cache()\n",
    "\n",
    "# Pull data for this tutorial\n",
    "cnd.get_tutorial()\n",
    "cnd.get_data(v='test.0',org='tutorial')\n",
    "\n",
    "# Define variables for matrix generation and CANDO object creation\n",
    "matrix_file='tutorial_matrix-approved.tsv'\n",
    "cmpd_map='cmpds-v2.2.tsv'\n",
    "ind_map='cmpds2inds-v2.2.tsv'\n",
    "protein_set=\"tutorial-bac-prots.txt\"\n",
    "dist_metric='cosine'\n",
    "ncpus=1\n",
    "\n",
    "os.chdir(\"tutorial\")"
   ]
  },
  {
   "cell_type": "markdown",
   "metadata": {},
   "source": [
    "<a class=\"anchor\" id=\"interaction-matrix\"></a>\n",
    "## Generate interaction matrix\n",
    "\n",
    "In this step we will generate a matrix of 2,449 approved compounds by 64 proteins, populated with the corresponding interaction score betwen each drug and protein. The final matrix will have drugs as the columns (indexed according to the compound mapping file), and proteins as the indices (indexed by PDB and chain ID)."
   ]
  },
  {
   "cell_type": "markdown",
   "metadata": {},
   "source": [
    "### Compound library\n",
    "\n",
    "In CANDO, we have some preprocessed libraries of compounds which have been curated using data from [Drugbank](https://go.drugbank.com/) and other sources (collaborators, wikipedia, etc.). This library contains approved drugs, investigational and experimental drugs, illicit compounds, metabolites, and other compounds. For the sake of time/expense, we will use just the approved drugs in our library (2,449 compounds).\n",
    "\n",
    "<div>\n",
    "<img src=\"figs/drug_lib.png\" width=\"300\"/>\n",
    "</div>\n",
    "\n",
    "Depending on the interaction scoring protocol used the compounds need to be preprocessed. Our current library has been preprocessed using numerous chemical fingerprinting methods (and parameters) and been converted to multiple chemical file formats (pbdqt, mol2, mol, and smiles) for generlizability to any docking method or interaction score protocol.\n",
    "\n",
    "This will be discussed more in the interaction scoring protocol section.\n"
   ]
  },
  {
   "cell_type": "markdown",
   "metadata": {},
   "source": [
    "### Protein library\n",
    "\n",
    "Similar to the compounds library, we have preprocessed multiple protein libraries that contain complete (or near complete) proteomes for numerous organisms, such as humans, SARS-CoV-2, MTB, etc. We are ever expanding these libraries and adding new proteomes.\n",
    "\n",
    "<div>\n",
    "<img src=\"figs/prot_lib.png\" width=\"300\"/>\n",
    "</div>\n",
    "\n",
    "A large portion of our proteins are solved crystal structures; however, to cover the full proteome for humans (and other organisms) we must model the structure using known protein structure prediction protocols. Our current libraries use [I-TASSER](https://zhanggroup.org/I-TASSER/) to model the unknown protein structures. We are in the process of completing our [AlphaFold](https://alphafold.ebi.ac.uk/) proteomes and will make those available soon.\n",
    "\n"
   ]
  },
  {
   "cell_type": "markdown",
   "metadata": {},
   "source": [
    "### Interaction scoring protocol\n",
    "\n",
    "CANDO is agnostic to the interaction scoring protocol you use to predict the interactions between each compound and macromolecule. However, there are a few protocols that are native to CANDO. These include: BANDOCK, CANDOCK, and BARDOCK. Each have their pros and cons, but we tend to use BANDOCK msts often when testing and applying our platform due to the balance of speed and accuracy.\n",
    "\n",
    "**BANDOCK** (**B**io**AN**lytical **DOCK**ing) is a fast and effective sociring protocol that leverages protein homology and compound similarity to predict the likelihood of two molecules interacting.\n",
    "\n",
    "<div>\n",
    "<img src=\"figs/bandock.png\" width=\"800\"/>\n",
    "</div>\n",
    "\n",
    "This protocol functions by calculating the similarity between a given compound and known or predicted ligands for a given protein using chemical fingerprints. The score that results is a balance between the confidence in the bound ligand and the similarity to the query compound. This score (between 0 and 1) is the probability that the query compound will bind to the query protein."
   ]
  },
  {
   "cell_type": "markdown",
   "metadata": {},
   "source": [
    "### Run generate_matrix()\n",
    "This is the function within CANDO that runs BANDOCK.\n",
    "\n",
    "The function `generate_matrix()` first creates a dataframe for all chemical fingerprint similarity scores comparing each compound in the specified version library `v` (or only approved drugs with `approved_only=True`) to every potential binding site ligand from the PDB using RDKit to compute the chemical fingerprints in which `fp` denotes the type/radius of fingerprint (rd_ecfp4, rd_ecfp8, etc). The vector type, `vect`, can be binary (\"1024_bit\" or \"2048_bit\") or integer (\"int\") and denote the presence or absence or count of molecular substructures in the molecule, respectively. If using integer vectors, `dist` should be set to \"dice\", but binary vectors can be set to Tanimoto (\"tani\"). \n",
    "\n",
    "Next, it creates a dataframe of all potential binding sites for each protein in the specified protein library, `protlib`, with their corresponding binding site scores from the specified binding site prediction method, `bs` (\"coach\", \"cof\", \"ssite\", \"tms\"). \n",
    "\n",
    "The function then iterates over all drugs and protein binding sites to populate the matrix with the best score based on the following input parameters: \n",
    "1. `i_score` - the scoring protocol of choice, which can be 'C', 'dC', 'P', 'CxP', 'dCxP', where C is the fingerprint similarity score (either Tanimoto or Sorenson-Dice coefficient), dC is the percentile of the C score for the compound compared to all ligands in the library, and P is binding site score associated with the ligand predicted by the [COACH algorithm](https://zhanglab.ccmb.med.umich.edu/COACH/)\n",
    "2. `c_cutoff` and `p_cutoff` - set cutoffs which ignore any C or P scores below each threshold, respectively\n",
    "3. `percentile_cutoff` - similar to `c_cutoff` but with the dC score (overrides `c_cutoff` if not `None`). These scores serve as a proxy for binding strength/probability of the drug and protein target. We then output the matrix to a tsv file, `out_file`, which in this case is \"tutorial_matrix-all.tsv\" (`out_path` can be set to write the file to a specific directory).\n",
    "\n",
    "We will create a matrix using the 'CxP' protocol, which just chooses the top Dice score to any ligand predicted to bind to a given protein, without any cutoffs. This function is parallelized, so setting the variable `ncpus` will change the number of processors that are used for this function. NOTE: percentile cutoff protocols ('dC', 'dCxP') take much longer to compute than 'C' and 'P' protocols. \n",
    "\n",
    "The example interaction matrix, `matrix_file`, has already been downloaded via `get_tutorial()`. This function may take anywhere from ~1-10 mins on 3 cores, depending on your computer's processor. ***To save time, you can skip running this***"
   ]
  },
  {
   "cell_type": "code",
   "execution_count": null,
   "metadata": {},
   "outputs": [],
   "source": [
    "# generate example cando interaction matrix (2,449 compounds x 64 proteins)\n",
    "cnd.generate_matrix(v=\"test.0\", fp=\"rd_ecfp4\", vect=\"int\",\n",
    "                    dist=\"dice\", org=\"tutorial\", bs=\"coach\",\n",
    "                    c_cutoff=0.0, p_cutoff=0.0, percentile_cutoff=0.0,\n",
    "                    i_score=\"dCxP\", out_file='', out_path=\".\",\n",
    "                    nr_ligs=True, approved_only=True,\n",
    "                    lib_path='', prot_path='', lig_name=False, ncpus=ncpus)"
   ]
  },
  {
   "cell_type": "markdown",
   "metadata": {},
   "source": [
    "<a class=\"anchor\" id=\"cando-object\"></a>\n",
    "## Setting up CANDO object\n",
    "\n",
    "1. First argument, `cmpd_map`, is the compound mapping which specifies all of the compounds in the matrix by name and ID.\n",
    "\n",
    "2. Second argument, `ind_map`, is the indication mapping which specifies which diseases the drugs/compounds are approved to treat.\n",
    "\n",
    "3. `matrix` is the cando interaction matrix file which contains the names of the proteins and the scores to all compounds in the proper order/indices as the compound mapping file indicates. **This file must be in tsv format.**\n",
    "\n",
    "4. `compute_distance` tells the object to compute the distances between the compounds in the platform based on the similarity of their interactions with all of the proteins. The distance metric used, `dist_metric`, can be cosine, RMSD, or many other common distance metrics (default is RMSD). This can be relatively time consuming depending on the amount of proteins, but with proteins on the order of hundreds it shouldn't take longer than a minute or two. If the computation does take a while (let's say >100,000 proteins), you can add a `save_dists='name_of_dist_file.tsv'` flag to save the computation. Then, simply use the `read_dists='name_of_dist_file.tsv'` to read in the already computed distances to save time. \n",
    "\n",
    "5. `compound_set` indicates which compounds to include in the CANDO object. The default option is 'all', but in this case we will use the 'approved' set to match the matrix we computed earlier. \n",
    "\n",
    "There are many other options available for the CANDO object instantiation, please consult the README for all of them (some more will be covered in this tutorial)."
   ]
  },
  {
   "cell_type": "code",
   "execution_count": null,
   "metadata": {},
   "outputs": [],
   "source": [
    "# create object using example cando interaction matrix\n",
    "# compute distances using rmsd distance metric\n",
    "cando = cnd.CANDO(cmpd_map, ind_map, matrix=matrix_file, compound_set='approved', compute_distance=True, \n",
    "                  dist_metric=dist_metric, ncpus=ncpus)"
   ]
  },
  {
   "cell_type": "markdown",
   "metadata": {},
   "source": [
    "<a class=\"anchor\" id=\"check-data\"></a>\n",
    "## Check data\n",
    "The imported data from `get_tutorial()` contains the CANDO v2.2 mappings with a sample of 64 proteins (for simplicity sake). It should contain the v2.2 set of 2,449 approved drugs and 2,214 indications. Let's check to make sure this is the case. The `CANDO` object should automagically assign each compound its signature of 64 proteins. "
   ]
  },
  {
   "cell_type": "code",
   "execution_count": null,
   "metadata": {},
   "outputs": [],
   "source": [
    "# print cando object stats\n",
    "print('compounds', len(cando.compounds))\n",
    "print('indications', len(cando.indications))\n",
    "print('proteins', len(cando.proteins))\n",
    "print('')"
   ]
  },
  {
   "cell_type": "markdown",
   "metadata": {},
   "source": [
    "We can also search for compounds using a string input with `search_compound()`, in case you are unaware if the mapping file contains a compound of interest. Don't worry about exact spelling, it will output the top 5 (default) closest matches to your query. "
   ]
  },
  {
   "cell_type": "code",
   "execution_count": null,
   "metadata": {},
   "outputs": [],
   "source": [
    "cando.search_compound('bilavarudin')"
   ]
  },
  {
   "cell_type": "markdown",
   "metadata": {},
   "source": [
    "Spelling was a bit off, but we found bivalirudin!\n",
    "\n",
    "Let's make sure bivalirudin has 64 values in its signature and take a look at the values themselves. We know its `id_` is 0 from searching. Depending on the scoring protocol used, the range/distribution of these values will vary.\n",
    "\n",
    "The `compute_distance` flag above tells the CANDO object to compute the distance between each compound on an all-vs-all basis. Let's check out the top5 most similar compounds to bivalirudin. The `Compound.similar` lists are part of the `Compound` objects and contain a tuple of every other compound object and its computed distance.\n",
    "\n",
    "<div>\n",
    "<img src=\"figs/cando_matrices.png\" width=\"800\"/>\n",
    "</div>"
   ]
  },
  {
   "cell_type": "code",
   "execution_count": null,
   "metadata": {},
   "outputs": [],
   "source": [
    "# print bivalirudin signature\n",
    "c = cando.compounds[0]\n",
    "print(c.name, len(c.sig))\n",
    "print(c.sig)\n",
    "print('')\n",
    "\n",
    "# top5 most similar compounds to bivalirudin\n",
    "for s in c.similar[0:5]:\n",
    "    print(s[0].name, round(s[1], 3))"
   ]
  },
  {
   "cell_type": "markdown",
   "metadata": {},
   "source": [
    "<a class=\"anchor\" id=\"canbenchmark\"></a>\n",
    "## Canbenchmark - benchmarking module\n",
    "\n",
    "An important part of CANDO is benchmarking how well we can recapture drugs known to treat the same diseases within their respective `Compound.similar` lists. \n",
    "\n",
    "An accuracy is calculated for each indication that has at least 2 compounds associated. To do this, we hold out each compound and look for any of the other approved compounds within a certain cutoff of the `Compound.similar` list for the held-out compound. The cutoffs are predetermined to be top10, top25, top50, and top100. There are also percent cutoffs that vary based on the number of compounds in the platform. \n",
    "\n",
    "<div>\n",
    "<img src=\"figs/canbenchmark.png\" width=\"700\"/>\n",
    "</div>\n",
    "\n",
    "For the example above, we have Indication-A with four drugs approved (Compound 1, 2, 3, and 4). First, we hold out Compound 1 and look for Compound 2, 3, or 4 in the top10, top25, top50, and top100 compounds to Compound 1. This would be repeated for Compounds 2, 3, and 4. So let's say Compound 3 was recaptured at rank 3 for Compound 1, Compound 1 was recaptured at rank 7 for Compound 2, and Compound 3 was recaptured at rank 14 for Compound 4. The top10 indication accuracy would be (1+1+0+0) / 4 == 50%, whereas the top25 would be (1+1+0+1) / 4 == 75%, and the top50 would be 100%. \n",
    "\n",
    "Currently, our benchmarking code calculates three metrics:\n",
    "1. Average indication accuracy (aia) - this value is the average of every individual indication accuracy\n",
    "2. Average pairwise accuracy (apa) - this value is the weighted average of each individual indication accuracy based on the number of drugs approved to treat it\n",
    "3. Indication coverage (ic) - this is the count of the number of non-zero indication accuracies\n",
    "\n",
    "The higher the metric scores for a given matrix/compound-protein scoring protocol, the more confidence we have in making predictions. \n",
    "\n",
    "\n",
    "### Canbenchmark\n",
    "Below is how to run the benchmarking code. The first argument of `canbenchmark()` is the extension to put on the output files, which are \"results_analysed_named\", \"raw_results\", and \"summary\". "
   ]
  },
  {
   "cell_type": "code",
   "execution_count": null,
   "metadata": {
    "scrolled": true
   },
   "outputs": [],
   "source": [
    "cando.canbenchmark('tutorial')"
   ]
  },
  {
   "cell_type": "markdown",
   "metadata": {},
   "source": [
    "Below is the printed summary file for the classic canbenchmark."
   ]
  },
  {
   "cell_type": "code",
   "execution_count": null,
   "metadata": {},
   "outputs": [],
   "source": [
    "with open(\"summary-tutorial.tsv\", 'r') as f:\n",
    "    for line in f:\n",
    "        print(line.strip('\\n'))"
   ]
  },
  {
   "cell_type": "markdown",
   "metadata": {},
   "source": [
    "<a class=\"anchor\" id=\"canpredict\"></a>\n",
    "## Canpredict - drug-disease association prediction module\n",
    "\n",
    "An important part of CANDO is generating putative drug candidates for a specific disease and predicting indications for which added or current drugs in our library can be therapetuic. We can do this with the canpredict functions.\n",
    "\n",
    "<div>\n",
    "<img src=\"figs/canpredict.png\" width=\"800\"/>\n",
    "</div>\n",
    "\n",
    "### Canpredict - compounds\n",
    "Generating putative drug candidates for a specific disease is one way we may want to use the predictive power of our platform. For this, we use the `canpredict_compounds()` function, which basically uses a consensus method to rank putative candidates based on how many times they show up as similar to drugs that are associated to the disease, within some defined cutoff. The default cutoff is 10 (the most stringent from benchmarking), but this can be varied. In its current implementation, `canpredict_compounds()` ranks compounds based on the consensus count and uses the average rank of those as the tie-breaker. \n",
    "\n",
    "<div>\n",
    "<img src=\"figs/benchmark+predict.jpeg\" width=\"800\"/>\n",
    "</div>\n",
    "\n",
    "Let's make predictions for human immunodeficiency virus (HIV). First, let's search our indication database for the appropriate MeSH ID. "
   ]
  },
  {
   "cell_type": "code",
   "execution_count": null,
   "metadata": {},
   "outputs": [],
   "source": [
    "cando.search_indication('HIV')"
   ]
  },
  {
   "cell_type": "markdown",
   "metadata": {},
   "source": [
    "The one we want is \"HIV Infections\" with an `id_` of \"MESH:D015658\". This is the input for `canpredict_compounds()`, but first let's see more about this indication. "
   ]
  },
  {
   "cell_type": "code",
   "execution_count": null,
   "metadata": {},
   "outputs": [],
   "source": [
    "hiv = cando.get_indication(\"MESH:D015658\")\n",
    "print('Number of drugs associated with {}: {}'.format(hiv.name, len(hiv.compounds)))\n",
    "for cmpd in hiv.compounds:\n",
    "    print('{}\\t{}'.format(cmpd.id_, cmpd.name))"
   ]
  },
  {
   "cell_type": "markdown",
   "metadata": {},
   "source": [
    "There are 32 drugs associated with HIV Infections, which makes sense given it is well-studied. Most seem to be protease inhibitors (saquinavir, fosamprenavir) or nucleoside analogs (zalcitabine, didanosine). \n",
    "\n",
    "We can now make predictions for other drugs/compounds that may be useful against HIV. This list is very long due to the large amount of drugs approved to treat HIV, so we should look at only the top10 (default) by setting `n=10`. We will also only print the first 10 compounds (`topX=10`)."
   ]
  },
  {
   "cell_type": "code",
   "execution_count": null,
   "metadata": {},
   "outputs": [],
   "source": [
    "cando.canpredict_compounds(\"MESH:D015658\", n=10, topX=10)"
   ]
  },
  {
   "cell_type": "markdown",
   "metadata": {},
   "source": [
    "Perhaps using the top10 compounds is not encompassing enough. Let's change it to top25 (n=25) and see if the predictions change. We will still print the first 10 compounds."
   ]
  },
  {
   "cell_type": "code",
   "execution_count": null,
   "metadata": {},
   "outputs": [],
   "source": [
    "cando.canpredict_compounds(\"MESH:D015658\", n=25, topX=10)"
   ]
  },
  {
   "cell_type": "markdown",
   "metadata": {},
   "source": [
    "We can show more results by changing the `topX` parameter. Let's print 25. \n",
    "\n",
    "We can also show the compounds that are already approved for 'HIV Infections' - indicated by an asterisk in the 'approved' column, by changing the `keep_associated` parameter to `True`. \n",
    "\n",
    "<span style=\"color:red\">(Note: this function is heavily reliant on the input indication mapping.)</span>"
   ]
  },
  {
   "cell_type": "code",
   "execution_count": null,
   "metadata": {},
   "outputs": [],
   "source": [
    "cando.canpredict_compounds(\"MESH:D015658\", n=25, topX=25, \n",
    "                           keep_associated=True)"
   ]
  },
  {
   "cell_type": "markdown",
   "metadata": {},
   "source": [
    "In this case, we recaptured 7 associated therapies for HIV, including amprenavir, saquinavir, fosamprenavir, didanosine, indinavir, abacavir, and nelfinavir."
   ]
  },
  {
   "cell_type": "markdown",
   "metadata": {},
   "source": [
    "### Canpredict - de novo\n",
    "\n",
    "Sometimes there are no drugs associated with an indication (whether it be in reality or in your input indication mapping); in those cases we can use the `canpredict_denovo()` function to suggest putative candidates. Basically, this function counts/sums the number of protein interaction scores above a set threshold for each compound and ranks them according to frequency and strength. This is particularly useful for pathogen proteomes (like SARS-CoV-2 or bacterial proteomes) or for finding which compounds target a subset of proteins of interest (e.g. kinases). In our case, we have a diverse set of proteins, which would render the results meaningless. Instead, we can input a list of protein IDs in which we are interested. We have precompiled a list of bacterial proteins already present in the sample matrix for convenience. Note: if we had read in an indication-genes mapping file, we could use the `ind_id=` parameter to automatically select all proteins associated with said indication. "
   ]
  },
  {
   "cell_type": "code",
   "execution_count": null,
   "metadata": {},
   "outputs": [],
   "source": [
    "bacterial_proteins = [\"3mk7C\", \"3eziA\", \"1u2mC\", \"3atsA\", \"2x4mA\", \n",
    "                      \"4wliA\", \"1t4aA\", \"4zxkA\", \"1zhhA\", \"1eb0A\", \n",
    "                      \"4nqwB\", \"2gqrA\", \"2qlcA\", \"3rf1A\", \"2xpwA\"]\n",
    "\n",
    "cando.canpredict_denovo(method='count', threshold=0.4, topX=30, proteins=bacterial_proteins)"
   ]
  },
  {
   "cell_type": "markdown",
   "metadata": {},
   "source": [
    "### Canpredict - indications\n",
    "\n",
    "\n",
    "Below we print the first 10 indications predicted for Paromomycin (CANDO ID 1225) using the top10 most similar compounds. Again, this tallies how many times specific diseases show up as associated with the top10 most similar compounds to paromomycin. "
   ]
  },
  {
   "cell_type": "code",
   "execution_count": null,
   "metadata": {},
   "outputs": [],
   "source": [
    "paro = cando.get_compound(1225)\n",
    "print(paro.name)\n",
    "cando.canpredict_indications(paro, \n",
    "                             n=10, topX=10)"
   ]
  },
  {
   "cell_type": "markdown",
   "metadata": {},
   "source": [
    "Not surprisingly, all of the predictions are infections of some sort (aka: most antibiotics share a great deal of structural similarity with each other). "
   ]
  },
  {
   "cell_type": "markdown",
   "metadata": {},
   "source": [
    "### Similar compounds\n",
    "`similar_compounds()` prints the first `n` most similar compounds for a given compound. This, like `canpredict_indications()` can be used with cando compounds, `cando_cmpd`, or novel compounds with a signature file (we will explore this later).\n",
    "\n",
    "Below we print the first 10 most similar compounds to Paromomycin."
   ]
  },
  {
   "cell_type": "code",
   "execution_count": null,
   "metadata": {},
   "outputs": [],
   "source": [
    "paro = cando.get_compound(1225)\n",
    "cando.similar_compounds(paro, n=10)"
   ]
  },
  {
   "cell_type": "markdown",
   "metadata": {},
   "source": [
    "Unsurprisingly, the most similar compounds to paromomycin are known antibiotics.  "
   ]
  },
  {
   "cell_type": "markdown",
   "metadata": {},
   "source": [
    "<a class=\"anchor\" id=\"ml\"></a>\n",
    "## Machine learning with CANDO\n",
    "The \"proteomic vectors\" within CANDO lend themselves well to machine learning to perhaps learn more complex relationships between the proteins within the vector and their impacts on the treatment of diseases. CANDO has built-in ML algorithms that allow for two main functionalities:\n",
    "1. Benchmark the platform using a hold-one-out protocol very similar to canbenchmark\n",
    "2. Make predictions for novel or non-associated compounds that may be therapeutic for a given disease\n",
    "\n",
    "The ML module currently supports 2 algorithms: random forests and logistic regression. The models are trained on drugs approved for the disease (positive classes) and an equal number of randomly selected \"neutral samples\", which are drugs/compounds not approved for the disease (negative samples). Random seeds may be set to ensure the same compounds are used in training. \n",
    "\n",
    "### ML - benchmark\n",
    "We have the option to benchmark the platform with an ML algorithm - this module outputs files very similar to canbenchmark. For this tutorial, we will skip this function as it requires a great deal of time to complete (training a separate model for EVERY drug-disease association, basically). The command to do so with a logistic regression classifier is below, feel free to run it! The `'out='` flag defines the name of the output files. Again, only diseases with 2+ compounds associated are benchmarked. \n",
    "\n",
    "`cnd.ml(method='rf', benchmark=True, seed=50, out='test_rf')`\n",
    "\n",
    "### ML - predict\n",
    "We can also use this module to predict if a certain compound may be therapeutic for a given disease. We can use the \n",
    "`'predict='` flag to specify a list of compounds that we wish to predict with the classifier. Let's use three drugs, imatinib, buprenorphine, and lisdexamfetamine, and see if they are predicted to have antibiotic activity using a random forest classifier. "
   ]
  },
  {
   "cell_type": "code",
   "execution_count": null,
   "metadata": {},
   "outputs": [],
   "source": [
    "baci = cando.get_indication('MESH:D001424')\n",
    "\n",
    "imat = cando.get_compound(503)\n",
    "bup = cando.get_compound(797)\n",
    "lamf = cando.get_compound(1121)\n",
    "\n",
    "cando.ml(method='rf', effect=baci, benchmark=False, seed=50, predict=[imat, bup, lamf])"
   ]
  },
  {
   "cell_type": "markdown",
   "metadata": {},
   "source": [
    "The accuracy is quite poor, so fine-tuning and hyperparameter optimization is necessary to enhance performance. "
   ]
  },
  {
   "cell_type": "markdown",
   "metadata": {},
   "source": [
    "<a class=\"anchor\" id=\"custom\"></a>\n",
    "## Custom protein subsets and signatures\n",
    "It may be useful for some users to probe compound-protein interaction similarity, but only in the context of a few particular proteins (e.g. set of kinase inhibitors). Instead of generating a new matrix with all of these proteins and their corresponding interaction values, which can begin to take up a lot of storage if done multiple times, the `'protein_set='` flag can be specified during the instantiation of the CANDO object. This flag contains the path to the protein subset the user wishes to use, which is simply a list of UniProt protein IDs. The CANDO object will automatically check for each ID if it either simply matches any UniProt IDs within the matrix or if that UniProt ID is associated with any PDB chains within the matrix (based on a mapping from the SIFTs project). If there are matches, the CANDO object will now contain Compound objects with only those protein interaction values in their signatures. Below is how to use this functionality - this time we can search for the bacterial proteins from the previous `canpredict_denovo()` section, but filter the proteins from the start using a list of UniProt IDs. "
   ]
  },
  {
   "cell_type": "code",
   "execution_count": null,
   "metadata": {},
   "outputs": [],
   "source": [
    "cando_subset = cnd.CANDO(cmpd_map, ind_map, matrix=matrix_file, compound_set='approved',\n",
    "                         compute_distance=True, protein_set=protein_set,\n",
    "                         dist_metric=dist_metric, ncpus=ncpus)\n",
    "\n",
    "print(\"Number of proteins in new signature =\", len(cando_subset.proteins))"
   ]
  },
  {
   "cell_type": "markdown",
   "metadata": {},
   "source": [
    "The signature was successfully edited to 15 proteins. Note: this does not nececessarily mean the each UniProt ID had a corresponding PDB match -- multiple PDB chains can be associated with a given UniProt ID. If the matrix contains UniProt IDs in the first column instead of PDB IDs, as in this case, the \"Direct UniProt matches\" value would be incremented if they match.\n",
    "\n",
    "We can also repeat all benchmarks and predictive algorithms with the new signatures. Below is the default benchmarking results with the new signatures. "
   ]
  },
  {
   "cell_type": "code",
   "execution_count": null,
   "metadata": {},
   "outputs": [],
   "source": [
    "cando_subset.canbenchmark('test_subset')"
   ]
  },
  {
   "cell_type": "markdown",
   "metadata": {},
   "source": [
    "Let's repeat the ML code from above, but this time with the reduced protein subset. "
   ]
  },
  {
   "cell_type": "code",
   "execution_count": null,
   "metadata": {},
   "outputs": [],
   "source": [
    "baci = cando_subset.get_indication('MESH:D001424')\n",
    "\n",
    "imat = cando_subset.get_compound(503)\n",
    "bup = cando_subset.get_compound(797)\n",
    "lamf = cando_subset.get_compound(1121)\n",
    "\n",
    "cando_subset.ml(method='rf', effect=baci, benchmark=False, \n",
    "                seed=50, predict=[imat, bup, lamf])"
   ]
  },
  {
   "cell_type": "markdown",
   "metadata": {},
   "source": [
    "As you can see, the output probability significantly change for one of the compounds, lisdexamfetamine, from 0.340 to 0.600, illustrating the impact of protein subset composition on model behavior. "
   ]
  },
  {
   "cell_type": "markdown",
   "metadata": {},
   "source": [
    "<a class=\"anchor\" id=\"novel-cmpd\"></a>\n",
    "## Generate proteomic signatures for new compounds \n",
    "\n",
    "The CANDO platform contains an extensive library of approved drugs and other compounds from DrugBank. However, if you wish to predict indications or similar drugs for a compound that is not present in our library, we make it possible with the `generate_signature()` function.\n",
    "\n",
    "First, you must have the compound properly formatted in mol file format. There are many programs that provide conversion between many chemical file formats, such as OpenBabel.\n",
    "\n",
    "Next, run `generate_signature()`. This will populate a tsv file with Tanimoto/Sorenson-Dice similarity scores of the provided compound to all binding site ligands in our database. These values will be used for the generation of the drug-proteome signature. The input parameters for this function are very similar to those for `generate_matrix()`, however the first argument is the path to the compound structure file in mol format. The output signature file will be saved in tsv format with the name you provide for \"out_file\" (with the appended path from \"out_path\").\n",
    "\n",
    "**NOTE: the interaction score protocol must match the input matrix protocol, which was 'CxP' as above. If we used a different protocol, these scores would not be directly comparable.**"
   ]
  },
  {
   "cell_type": "code",
   "execution_count": null,
   "metadata": {},
   "outputs": [],
   "source": [
    "cmpd_file = \"lmk235.mol\"\n",
    "signature_file = \"lmk235_signature.tsv\"\n",
    "\n",
    "cnd.generate_signature(cmpd_file, fp=\"rd_ecfp4\", vect=\"int\", dist=\"dice\", \n",
    "                      org=\"tutorial\", bs=\"coach\", c_cutoff=0.0, p_cutoff=0.0, \n",
    "                      percentile_cutoff=0.0, i_score=\"CxP\", out_file=signature_file, \n",
    "                      out_path=\".\", nr_ligs=True)"
   ]
  },
  {
   "cell_type": "markdown",
   "metadata": {},
   "source": [
    "We then must add the compound to the existing `CANDO` object with the `add_cmpd()` function. The inputs are the newly generated signature file and the desired name (which below is \"lmk-235\"). "
   ]
  },
  {
   "cell_type": "code",
   "execution_count": null,
   "metadata": {},
   "outputs": [],
   "source": [
    "cando.add_cmpd(signature_file, new_name='lmk-235')"
   ]
  },
  {
   "cell_type": "markdown",
   "metadata": {},
   "source": [
    "Now that our new compound is added to the platform, we can see what other compounds to which it is similar. We can use the `similar_compounds()` function from before to print those compounds. "
   ]
  },
  {
   "cell_type": "code",
   "execution_count": null,
   "metadata": {},
   "outputs": [],
   "source": [
    "lmk235 = cando.get_compound(10674)\n",
    "cando.similar_compounds(lmk235, n=10)"
   ]
  },
  {
   "cell_type": "markdown",
   "metadata": {},
   "source": [
    "Finally, we can predict potential indications for which our new compound may be useful. We can use the `canpredict_indications()` as before to print those results. "
   ]
  },
  {
   "cell_type": "code",
   "execution_count": null,
   "metadata": {},
   "outputs": [],
   "source": [
    "cando.canpredict_indications(lmk235, n=25, topX=15)"
   ]
  },
  {
   "cell_type": "markdown",
   "metadata": {},
   "source": [
    "Interestingly, both Hypertension (MESH:D006973) and Pain (MESH:D010146) are top predictions - the analgesic and hypotensive properties of lmk-235 are both supported by in vivo studies in the literature. "
   ]
  },
  {
   "cell_type": "markdown",
   "metadata": {},
   "source": [
    "<a class=\"anchor\" id=\"new-cmpd-lib\"></a>\n",
    "## Generate a new compound library\n",
    "\n",
    "In this part of the tutorial, we will walk you through how to create a new, unique compound library to use for matrix generation."
   ]
  },
  {
   "cell_type": "markdown",
   "metadata": {},
   "source": [
    "### Create compound set\n",
    "\n",
    "In order to create a new compound set, you must first have a TSV (tab separated values) file that contains one of two chemical file types:\n",
    "\n",
    "1. SMILES - `file_type='smi'`. The file must have the SMILES string as the first column and the corresponding compound name in the second column, e.g.\n",
    "    `C1CNCCN(C1)S(=O)(=O)C2=CC=CC3=C2C=CN=C3 fasudil`\n",
    "    \n",
    "2. Mol - `file_type='mol'`. The file must have the name of the file, without the file extension. In addition, the path to the files must be given in the argument `cmpd_dir`.\n",
    "\n",
    "In our example, we will create a new compound library of select tyrosine kinase inhibitors (TKIs) that we will then use to create a new matrix with just these drugs. First, we generate the library."
   ]
  },
  {
   "cell_type": "code",
   "execution_count": null,
   "metadata": {},
   "outputs": [],
   "source": [
    "cnd.add_cmpds(\"tki_set-test.smi\", file_type='smi', fp=\"rd_ecfp4\", vect=\"int\", cmpd_dir=\".\", v='tki')"
   ]
  },
  {
   "cell_type": "markdown",
   "metadata": {},
   "source": [
    "We have now generated a new compound library, located at `./tki/cmpds`. This location is partially hardcoded, so it will also create a directory in your current working directory, `./`, named after the `v` you choose, `./tki`. This makes it easier for the end-user.\n",
    "\n",
    "Notice we chose to use the rdkit fingerprint ecfp4, `fp=\"rd_ecfp4\"`, and the vector type int, `vect=\"int\"`. We need to keep track of this for our matrix generation."
   ]
  },
  {
   "cell_type": "markdown",
   "metadata": {},
   "source": [
    "### Generate matrix from new compound library\n",
    "\n",
    "Next we will generate a matrix using this **tki** compound library. The generate matrix function can take in a customized matrix, as opposed to the pregenerated/downlaoded matrices based upon our predefined `v`, e.g. v2.2, v2.3, etc. By setting `v` to the same name you used in the previous `add_cmpds` function, you can load those cmpds to create a new matrix.\n",
    "\n",
    "We will set `v='tki'` and `lib_path='.'`. This means we will use the **tki** library, which is located in the current working dir. In addition, sicne we created our compound library using fingerprint type ecfp4, we need to make sure we use it here, as well. The remaining arguemnts has already been discussed in the previous <a class=\"anchor\" id=\"interaction-matrix\">generate matrix</a> section.\n"
   ]
  },
  {
   "cell_type": "code",
   "execution_count": null,
   "metadata": {},
   "outputs": [],
   "source": [
    "cnd.generate_matrix(v=\"tki\", lib_path='.',\n",
    "                    fp=\"rd_ecfp4\", vect=\"int\",\n",
    "                    dist=\"dice\", org=\"tutorial\", bs=\"coach\",\n",
    "                    c_cutoff=0.0, p_cutoff=0.0, percentile_cutoff=0.0,\n",
    "                    i_score=\"CxP\", out_file='', out_path=\"\",\n",
    "                    nr_ligs=True, approved_only=False,\n",
    "                    lig_name=False, ncpus=ncpus)"
   ]
  },
  {
   "cell_type": "markdown",
   "metadata": {},
   "source": [
    "We now have a brand new matrix with all of our new TKIs scored against our set of 64 test proteins. This file is located at `./tki/matrices/`. Again, these paths are mostly hardcoded. You can control where the matrix is written and what the name is using the `out_path` and `out_file` arguments. When these arugments are set to '' the hardcoded paths are used, as shown in this example.\n",
    "\n",
    "Now we will load the newly created matrix into a CANDO object."
   ]
  },
  {
   "cell_type": "code",
   "execution_count": null,
   "metadata": {},
   "outputs": [],
   "source": [
    "# Set compound mapping variable to the new TKI compound mapping file\n",
    "tki_map = 'tki/mappings/cmpds-tki.tsv'\n",
    "tki_matrix = 'tki/matrices/rd_ecfp4-int-dice-tutorial-coach-c0.0-p0.0-CxP.tsv'\n",
    "# Create CANDO object using the new compound mapping and TKI matrix\n",
    "tki_cando = cnd.CANDO(tki_map, ind_map, matrix=tki_matrix, compound_set='all', compute_distance=True, \n",
    "                  dist_metric=dist_metric, ncpus=ncpus)"
   ]
  },
  {
   "cell_type": "markdown",
   "metadata": {},
   "source": [
    "Check the new CANDO object data and the most similar compounds to the first TKI."
   ]
  },
  {
   "cell_type": "code",
   "execution_count": null,
   "metadata": {},
   "outputs": [],
   "source": [
    "# print cando object stats\n",
    "print('compounds', len(tki_cando.compounds))\n",
    "print('indications', len(tki_cando.indications))\n",
    "print('proteins', len(tki_cando.proteins))\n",
    "print('')\n",
    "\n",
    "# print first TKI name and signature\n",
    "c = tki_cando.compounds[0]\n",
    "print(c.name, len(c.sig))\n",
    "print(c.sig)\n",
    "print('')\n",
    "\n",
    "# top5 most similar compounds to first TKI\n",
    "for s in c.similar[0:5]:\n",
    "    print(s[0].name, round(s[1], 3))"
   ]
  },
  {
   "cell_type": "markdown",
   "metadata": {
    "collapsed": true
   },
   "source": [
    "<a class=\"anchor\" id=\"virtual-screen\"></a>\n",
    "## Virtual screening in CANDO\n",
    "Though the CANDO platform is mainly intended for multitarget drug discovery and repurposing, there still exists the option to check the top compound hits for a given protein. This is accomplished via the `virtual_screen()` function. Let's test the top hits for two of the known bacterial proteins from above, namely \"1u2mC\", \"3atsA\". "
   ]
  },
  {
   "cell_type": "code",
   "execution_count": null,
   "metadata": {},
   "outputs": [],
   "source": [
    "cando.virtual_screen(\"1u2mC\")\n",
    "cando.virtual_screen(\"3atsA\")"
   ]
  },
  {
   "cell_type": "markdown",
   "metadata": {},
   "source": [
    "Streptozocin is the top hit for 1u2mC, which suggests it shares significant structural similarity to a ligand known/predicted to bind to this protein. Similarly, kanamycin is the 5th hit for 3atsA. These scores/ranks can change significantly based on scoring protocol used for the matrix - changing i_score in `generate_matrix()` to \"dC\", for example, would greatly affect the output. "
   ]
  }
 ],
 "metadata": {
  "kernelspec": {
   "display_name": "Python 3 (ipykernel)",
   "language": "python",
   "name": "python3"
  },
  "language_info": {
   "codemirror_mode": {
    "name": "ipython",
    "version": 3
   },
   "file_extension": ".py",
   "mimetype": "text/x-python",
   "name": "python",
   "nbconvert_exporter": "python",
   "pygments_lexer": "ipython3",
   "version": "3.9.7"
  }
 },
 "nbformat": 4,
 "nbformat_minor": 2
}
